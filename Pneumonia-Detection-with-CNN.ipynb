{
 "cells": [
  {
   "cell_type": "markdown",
   "id": "cae8df40-0928-4c19-9b3c-53f2198ce615",
   "metadata": {},
   "source": [
    "# Pneumonia-Detection-with-CNN\n",
    "\n",
    "Hildegard Zerrweck\n",
    "\n",
    "The main purpose is to implement a Convolutional Neural Network (CNN) to detect pneumonia cases from the dataset, aiming to classify the images of X-rays in two classes: Normal, Pneumonia."
   ]
  },
  {
   "cell_type": "code",
   "execution_count": 1,
   "id": "6cc1df7c-060c-4a5e-aa1b-793dca823749",
   "metadata": {},
   "outputs": [],
   "source": [
    "import tensorflow as tf\n",
    "import matplotlib\n",
    "import matplotlib.pyplot as plt\n",
    "import numpy as np\n",
    "from numpy import array\n",
    "from sklearn.metrics import classification_report\n",
    "import time\n",
    "from sklearn.metrics import confusion_matrix\n",
    "import sklearn.model_selection as model_selection"
   ]
  },
  {
   "cell_type": "markdown",
   "id": "60d040c5-de35-4a27-8680-e5a8b49b9041",
   "metadata": {},
   "source": [
    "MedMNIST is a large-scale MNIST-like collection of standardized biomedical images, including 12 datasets for 2D and 6 datasets for 3D. All images are pre-processed into 28x28 (2D) or 28x28x28 (3D) with the corresponding classification labels."
   ]
  },
  {
   "cell_type": "code",
   "execution_count": 2,
   "id": "5b0b750e-8f3c-4bc8-967e-90916847358d",
   "metadata": {},
   "outputs": [
    {
     "name": "stdout",
     "output_type": "stream",
     "text": [
      "Requirement already satisfied: medmnist in c:\\users\\zerrw\\anaconda3\\lib\\site-packages (3.0.2)\n",
      "Requirement already satisfied: numpy in c:\\users\\zerrw\\anaconda3\\lib\\site-packages (from medmnist) (2.1.3)\n",
      "Requirement already satisfied: pandas in c:\\users\\zerrw\\anaconda3\\lib\\site-packages (from medmnist) (2.2.3)\n",
      "Requirement already satisfied: scikit-learn in c:\\users\\zerrw\\anaconda3\\lib\\site-packages (from medmnist) (1.6.1)\n",
      "Requirement already satisfied: scikit-image in c:\\users\\zerrw\\anaconda3\\lib\\site-packages (from medmnist) (0.25.0)\n",
      "Requirement already satisfied: tqdm in c:\\users\\zerrw\\anaconda3\\lib\\site-packages (from medmnist) (4.67.1)\n",
      "Requirement already satisfied: Pillow in c:\\users\\zerrw\\anaconda3\\lib\\site-packages (from medmnist) (11.1.0)\n",
      "Requirement already satisfied: fire in c:\\users\\zerrw\\anaconda3\\lib\\site-packages (from medmnist) (0.7.1)\n",
      "Requirement already satisfied: torch in c:\\users\\zerrw\\anaconda3\\lib\\site-packages (from medmnist) (2.8.0)\n",
      "Requirement already satisfied: torchvision in c:\\users\\zerrw\\anaconda3\\lib\\site-packages (from medmnist) (0.23.0)\n",
      "Requirement already satisfied: termcolor in c:\\users\\zerrw\\anaconda3\\lib\\site-packages (from fire->medmnist) (3.1.0)\n",
      "Requirement already satisfied: python-dateutil>=2.8.2 in c:\\users\\zerrw\\appdata\\roaming\\python\\python313\\site-packages (from pandas->medmnist) (2.9.0.post0)\n",
      "Requirement already satisfied: pytz>=2020.1 in c:\\users\\zerrw\\anaconda3\\lib\\site-packages (from pandas->medmnist) (2024.1)\n",
      "Requirement already satisfied: tzdata>=2022.7 in c:\\users\\zerrw\\anaconda3\\lib\\site-packages (from pandas->medmnist) (2025.2)\n",
      "Requirement already satisfied: six>=1.5 in c:\\users\\zerrw\\appdata\\roaming\\python\\python313\\site-packages (from python-dateutil>=2.8.2->pandas->medmnist) (1.17.0)\n",
      "Requirement already satisfied: scipy>=1.11.2 in c:\\users\\zerrw\\anaconda3\\lib\\site-packages (from scikit-image->medmnist) (1.15.3)\n",
      "Requirement already satisfied: networkx>=3.0 in c:\\users\\zerrw\\anaconda3\\lib\\site-packages (from scikit-image->medmnist) (3.4.2)\n",
      "Requirement already satisfied: imageio!=2.35.0,>=2.33 in c:\\users\\zerrw\\anaconda3\\lib\\site-packages (from scikit-image->medmnist) (2.37.0)\n",
      "Requirement already satisfied: tifffile>=2022.8.12 in c:\\users\\zerrw\\anaconda3\\lib\\site-packages (from scikit-image->medmnist) (2025.2.18)\n",
      "Requirement already satisfied: packaging>=21 in c:\\users\\zerrw\\appdata\\roaming\\python\\python313\\site-packages (from scikit-image->medmnist) (25.0)\n",
      "Requirement already satisfied: lazy-loader>=0.4 in c:\\users\\zerrw\\anaconda3\\lib\\site-packages (from scikit-image->medmnist) (0.4)\n",
      "Requirement already satisfied: joblib>=1.2.0 in c:\\users\\zerrw\\anaconda3\\lib\\site-packages (from scikit-learn->medmnist) (1.4.2)\n",
      "Requirement already satisfied: threadpoolctl>=3.1.0 in c:\\users\\zerrw\\anaconda3\\lib\\site-packages (from scikit-learn->medmnist) (3.5.0)\n",
      "Requirement already satisfied: filelock in c:\\users\\zerrw\\anaconda3\\lib\\site-packages (from torch->medmnist) (3.17.0)\n",
      "Requirement already satisfied: typing-extensions>=4.10.0 in c:\\users\\zerrw\\anaconda3\\lib\\site-packages (from torch->medmnist) (4.12.2)\n",
      "Requirement already satisfied: sympy>=1.13.3 in c:\\users\\zerrw\\anaconda3\\lib\\site-packages (from torch->medmnist) (1.13.3)\n",
      "Requirement already satisfied: jinja2 in c:\\users\\zerrw\\anaconda3\\lib\\site-packages (from torch->medmnist) (3.1.6)\n",
      "Requirement already satisfied: fsspec in c:\\users\\zerrw\\anaconda3\\lib\\site-packages (from torch->medmnist) (2025.3.2)\n",
      "Requirement already satisfied: setuptools in c:\\users\\zerrw\\anaconda3\\lib\\site-packages (from torch->medmnist) (72.1.0)\n",
      "Requirement already satisfied: mpmath<1.4,>=1.1.0 in c:\\users\\zerrw\\anaconda3\\lib\\site-packages (from sympy>=1.13.3->torch->medmnist) (1.3.0)\n",
      "Requirement already satisfied: MarkupSafe>=2.0 in c:\\users\\zerrw\\anaconda3\\lib\\site-packages (from jinja2->torch->medmnist) (3.0.2)\n",
      "Requirement already satisfied: colorama in c:\\users\\zerrw\\appdata\\roaming\\python\\python313\\site-packages (from tqdm->medmnist) (0.4.6)\n",
      "Note: you may need to restart the kernel to use updated packages.\n"
     ]
    }
   ],
   "source": [
    "pip install medmnist"
   ]
  },
  {
   "cell_type": "code",
   "execution_count": 3,
   "id": "b9e63002-5668-4a90-ac32-5cd06f04b3ac",
   "metadata": {},
   "outputs": [],
   "source": [
    "import medmnist\n",
    "from medmnist import INFO"
   ]
  },
  {
   "cell_type": "code",
   "execution_count": 4,
   "id": "69a706cc-4c66-43c2-b649-09bce6dffd29",
   "metadata": {},
   "outputs": [
    {
     "name": "stdout",
     "output_type": "stream",
     "text": [
      "{'python_class': 'PneumoniaMNIST', 'description': 'The PneumoniaMNIST is based on a prior dataset of 5,856 pediatric chest X-Ray images. The task is binary-class classification of pneumonia against normal. We split the source training set with a ratio of 9:1 into training and validation set and use its source validation set as the test set. The source images are gray-scale, and their sizes are (384−2,916)×(127−2,713). We center-crop the images and resize them into 1×28×28.', 'url': 'https://zenodo.org/records/10519652/files/pneumoniamnist.npz?download=1', 'MD5': '28209eda62fecd6e6a2d98b1501bb15f', 'url_64': 'https://zenodo.org/records/10519652/files/pneumoniamnist_64.npz?download=1', 'MD5_64': '8f4eceb4ccffa70c672198ea285246c6', 'url_128': 'https://zenodo.org/records/10519652/files/pneumoniamnist_128.npz?download=1', 'MD5_128': '05b46931834c231683c68f40c47b2971', 'url_224': 'https://zenodo.org/records/10519652/files/pneumoniamnist_224.npz?download=1', 'MD5_224': 'd6a3c71de1b945ea11211b03746c1fe1', 'task': 'binary-class', 'label': {'0': 'normal', '1': 'pneumonia'}, 'n_channels': 1, 'n_samples': {'train': 4708, 'val': 524, 'test': 624}, 'license': 'CC BY 4.0'}\n"
     ]
    }
   ],
   "source": [
    "DATASET_NAME = \"pneumoniamnist\"\n",
    "info = INFO[DATASET_NAME]\n",
    "print(info)"
   ]
  },
  {
   "cell_type": "code",
   "execution_count": 5,
   "id": "504c7ec5-05af-415d-84cb-4cd07e11d4fe",
   "metadata": {},
   "outputs": [],
   "source": [
    "DataClass = getattr(medmnist, info[\"python_class\"])"
   ]
  },
  {
   "cell_type": "markdown",
   "id": "c4728f8f-7407-41d0-96d7-42fa6ef24517",
   "metadata": {},
   "source": [
    "In this part we prepare the data subset: training (train_ds), validation (val_ds) and testing (test_ds)."
   ]
  },
  {
   "cell_type": "code",
   "execution_count": 6,
   "id": "39e27192-8d4b-4378-b43d-142255585c7e",
   "metadata": {},
   "outputs": [],
   "source": [
    "train_ds = DataClass(split = \"train\", download = True, as_rgb = False)\n",
    "val_ds = DataClass(split = \"val\", download = True, as_rgb = False)\n",
    "test_ds = DataClass(split = \"test\", download = True, as_rgb = False)"
   ]
  },
  {
   "cell_type": "markdown",
   "id": "988db1df-7ddb-4d18-9e1d-3cd9bc599cfa",
   "metadata": {},
   "source": [
    "This is an auxiliar function to transform the data into NumPy arrays, which facilitates the preprocessing and posterior training."
   ]
  },
  {
   "cell_type": "code",
   "execution_count": 7,
   "id": "5ce1dcd9-ac00-41ba-b5ec-3d33961754c5",
   "metadata": {},
   "outputs": [],
   "source": [
    "def dataset_to_numpy(dataset):\n",
    "    images, labels = [], []\n",
    "    for i in range(len(dataset)):\n",
    "        img, label = dataset[i]\n",
    "        images.append(img)\n",
    "        labels.append(label)\n",
    "    return np.array(images), np.array(labels).squeeze()"
   ]
  },
  {
   "cell_type": "markdown",
   "id": "5e4990c2-966c-4087-aea3-2eb5457271ba",
   "metadata": {},
   "source": [
    "The previous function \"dataset_to_numpy\" converts each subset into NumPy tensors, then we call the function with each respective parameters."
   ]
  },
  {
   "cell_type": "code",
   "execution_count": 8,
   "id": "36e6c312-4bd9-41d1-8dfc-e00badc82344",
   "metadata": {},
   "outputs": [],
   "source": [
    "x_train, y_train = dataset_to_numpy(train_ds)\n",
    "x_val, y_val = dataset_to_numpy(val_ds)\n",
    "x_test, y_test = dataset_to_numpy(test_ds)\n"
   ]
  },
  {
   "cell_type": "markdown",
   "id": "7acf4569-0605-4856-9da6-86571d9326f0",
   "metadata": {},
   "source": [
    "Then, we normalize the pixels values in order to keep them in a [0,1] range. This helps to keep a numerical stability during the training."
   ]
  },
  {
   "cell_type": "code",
   "execution_count": 9,
   "id": "f515b9bc-5477-4ffd-887f-bc518cfd8a00",
   "metadata": {},
   "outputs": [],
   "source": [
    "x_train = x_train.astype(\"float32\") / 255.0\n",
    "x_val = x_val.astype(\"float32\") / 255.0\n",
    "x_test = x_test.astype(\"float32\") / 255.0"
   ]
  },
  {
   "cell_type": "markdown",
   "id": "cbc4f3d7-16c0-4538-b3c0-0f04bfe16f97",
   "metadata": {},
   "source": [
    "This cell helps to display some images from the dataset in order to verify that our data is correctly loaded and to help us understand how they look."
   ]
  },
  {
   "cell_type": "code",
   "execution_count": 10,
   "id": "5cbcd6d2-a861-43d6-b39d-9bfee1618987",
   "metadata": {},
   "outputs": [
    {
     "data": {
      "image/png": "[encoded data removed]",
      "text/plain": [
       "<Figure size 1200x500 with 10 Axes>"
      ]
     },
     "metadata": {},
     "output_type": "display_data"
    }
   ],
   "source": [
    "fig, axes = plt.subplots(2, 5, figsize=(12, 5))\n",
    "fig.suptitle(\"PneumoniaMNIST Examples\", fontsize=16)\n",
    "\n",
    "for i, ax in enumerate(axes.flat):\n",
    "    img = x_train[i].squeeze()  \n",
    "    label = y_train[i]\n",
    "    ax.imshow(img, cmap=\"gray\")\n",
    "    ax.set_title(\"Normal\" if label == 0 else \"Pneumonia\")\n",
    "    ax.axis(\"off\")\n",
    "\n",
    "plt.tight_layout()\n",
    "plt.show()"
   ]
  },
  {
   "cell_type": "markdown",
   "id": "e022dfea-9b3a-4a5b-98e2-a4a1c38c6e0f",
   "metadata": {},
   "source": [
    "Convert the image arrays and labels into TensorFlow optimized datasets in order to begin training."
   ]
  },
  {
   "cell_type": "code",
   "execution_count": 11,
   "id": "3de83efd-0daa-4246-9da4-ef839e0e3c72",
   "metadata": {},
   "outputs": [],
   "source": [
    "AUTOTUNE = tf.data.AUTOTUNE\n",
    "BATCH = 64"
   ]
  },
  {
   "cell_type": "code",
   "execution_count": 12,
   "id": "d7129662-5069-40cf-a144-2092d150dcf7",
   "metadata": {},
   "outputs": [],
   "source": [
    "def prep_example(x, y):\n",
    "    x = tf.cast(x, tf.float32) / 255.0 #normalization: images to [0,1]\n",
    "    x = tf.reshape(x, [28,28,1])\n",
    "    y = tf.cast(y, tf.int32) # labels as integers\n",
    "    return x, y"
   ]
  },
  {
   "cell_type": "markdown",
   "id": "cae9becf-8ba2-41ed-bb71-68f156fac605",
   "metadata": {},
   "source": [
    "The cell below constructs the data pipelines for training, validation and testing in order to manage the images in a more efficient way, using batches and paralelism, optimizing the CPU/GPU training."
   ]
  },
  {
   "cell_type": "code",
   "execution_count": 13,
   "id": "96bbf545-bcca-428d-a502-6181a4893b9a",
   "metadata": {},
   "outputs": [],
   "source": [
    "train_tf = (tf.data.Dataset.from_tensor_slices((x_train, y_train)) # converts arrays [image, label] into a Dataset object\n",
    "            .map(prep_example, num_parallel_calls=AUTOTUNE) #applies prep_example function listeed above this   cell.\n",
    "            .shuffle(10_000) # just in training, mix ramndomly 10,000 examples in a buffer to avoid pattern recognition into the model.\n",
    "            .batch(BATCH) # groups examples into batches with a defined size.\n",
    "            .prefetch(AUTOTUNE)) # this allows tensorflow to prepare the following batch whilde CPU/GPU trains the current batch.\n",
    "\n",
    "val_tf = (tf.data.Dataset.from_tensor_slices((x_val, y_val))\n",
    "          .map(prep_example, num_parallel_calls=AUTOTUNE)\n",
    "          .batch(BATCH)\n",
    "          .prefetch(AUTOTUNE))\n",
    "\n",
    "test_tf = (tf.data.Dataset.from_tensor_slices((x_test, y_test))\n",
    "           .map(prep_example, num_parallel_calls=AUTOTUNE)\n",
    "           .batch(BATCH)\n",
    "           .prefetch(AUTOTUNE))"
   ]
  },
  {
   "cell_type": "code",
   "execution_count": 14,
   "id": "7edb0bb5-a67d-432d-a056-d6fa00041e1c",
   "metadata": {},
   "outputs": [],
   "source": [
    "from tensorflow import keras\n",
    "from tensorflow.keras import layers"
   ]
  },
  {
   "cell_type": "markdown",
   "id": "215dee4d-389e-4485-83b9-f97842448966",
   "metadata": {},
   "source": [
    "At this point, we define the convolutional neural network based on **LeNet-5** architecture, adapted to work with **PneumoniaMNIST** dataset (28x28 images in grey scale, 2 labels)"
   ]
  },
  {
   "cell_type": "code",
   "execution_count": 15,
   "id": "eae01bd0-0679-48d4-a009-3e1f506cc500",
   "metadata": {},
   "outputs": [
    {
     "name": "stderr",
     "output_type": "stream",
     "text": [
      "C:\\Users\\zerrw\\anaconda3\\Lib\\site-packages\\keras\\src\\layers\\convolutional\\base_conv.py:113: UserWarning: Do not pass an `input_shape`/`input_dim` argument to a layer. When using Sequential models, prefer using an `Input(shape)` object as the first layer in the model instead.\n",
      "  super().__init__(activity_regularizer=activity_regularizer, **kwargs)\n"
     ]
    }
   ],
   "source": [
    "model = keras.Sequential([\n",
    "    # C1: Convolutional layer\n",
    "    layers.Conv2D(filters=6, kernel_size=(5,5), strides=(1,1),\n",
    "                  padding='same', activation='tanh',\n",
    "                  input_shape=(28, 28, 1)),\n",
    "\n",
    "    # S2: Subsampling / Pooling Layer\n",
    "    layers.MaxPooling2D(pool_size=(2,2), strides=(2,2), padding='valid'),\n",
    "\n",
    "    # C3: Convolutional Layer\n",
    "    layers.Conv2D(filters=16, kernel_size=(5,5), strides=(1,1),\n",
    "                  padding='valid', activation='tanh'),\n",
    "\n",
    "    # S4: Subsampling / Pooling Layer\n",
    "    layers.MaxPooling2D(pool_size=(2,2), strides=(2,2), padding='valid'),\n",
    "\n",
    "    # C5 + F6: Fully connected layers\n",
    "    layers.Flatten(),\n",
    "    layers.Dense(120, activation='tanh'),\n",
    "    layers.Dense(84,  activation='tanh'),\n",
    "\n",
    "    # Output (2 clases): binary classification\n",
    "    layers.Dense(2, activation='softmax')\n",
    "])"
   ]
  },
  {
   "cell_type": "code",
   "execution_count": 16,
   "id": "cd5cd13b-f06b-4d1a-bec1-78774b9bbf31",
   "metadata": {},
   "outputs": [],
   "source": [
    "# defining hyperparameters\n",
    "n_epochs=25\n",
    "n_batch=64\n",
    "learning_rate=0.01\n",
    "opt = tf.keras.optimizers.SGD(learning_rate=learning_rate)"
   ]
  },
  {
   "cell_type": "markdown",
   "id": "ca125b4c-40e9-4073-8ab2-64f3c2a001b5",
   "metadata": {},
   "source": [
    "Once our architecture is define, we proceed to **compile** the model, this means to specify how the network is going to be trained, according tho the hyperparameters defined at the previous cell.\n",
    "\n",
    "I am using Adam because it combines the benefits from AdaGrad and RMSProp, adjusting dynamically the learning rate of each parameter, this is one of the most used optimizers for CNN."
   ]
  },
  {
   "cell_type": "code",
   "execution_count": 17,
   "id": "3bedbb4d-f34d-4e9a-919e-c4c86c8da0f5",
   "metadata": {},
   "outputs": [],
   "source": [
    "model.compile(\n",
    "    optimizer=tf.keras.optimizers.Adam(1e-3),\n",
    "    loss='sparse_categorical_crossentropy',  # <— clave\n",
    "    metrics=['accuracy']\n",
    ")"
   ]
  },
  {
   "cell_type": "code",
   "execution_count": 18,
   "id": "41e77801-c3ba-42ef-878c-396bcd69f234",
   "metadata": {},
   "outputs": [
    {
     "data": {
      "text/html": [
       "<pre style=\"white-space:pre;overflow-x:auto;line-height:normal;font-family:Menlo,'DejaVu Sans Mono',consolas,'Courier New',monospace\"><span style=\"font-weight: bold\">Model: \"sequential\"</span>\n",
       "</pre>\n"
      ],
      "text/plain": [
       "\u001b[1mModel: \"sequential\"\u001b[0m\n"
      ]
     },
     "metadata": {},
     "output_type": "display_data"
    },
    {
     "data": {
      "text/html": [
       "<pre style=\"white-space:pre;overflow-x:auto;line-height:normal;font-family:Menlo,'DejaVu Sans Mono',consolas,'Courier New',monospace\">┏━━━━━━━━━━━━━━━━━━━━━━━━━━━━━━━━━┳━━━━━━━━━━━━━━━━━━━━━━━━┳━━━━━━━━━━━━━━━┓\n",
       "┃<span style=\"font-weight: bold\"> Layer (type)                    </span>┃<span style=\"font-weight: bold\"> Output Shape           </span>┃<span style=\"font-weight: bold\">       Param # </span>┃\n",
       "┡━━━━━━━━━━━━━━━━━━━━━━━━━━━━━━━━━╇━━━━━━━━━━━━━━━━━━━━━━━━╇━━━━━━━━━━━━━━━┩\n",
       "│ conv2d (<span style=\"color: #0087ff; text-decoration-color: #0087ff\">Conv2D</span>)                 │ (<span style=\"color: #00d7ff; text-decoration-color: #00d7ff\">None</span>, <span style=\"color: #00af00; text-decoration-color: #00af00\">28</span>, <span style=\"color: #00af00; text-decoration-color: #00af00\">28</span>, <span style=\"color: #00af00; text-decoration-color: #00af00\">6</span>)      │           <span style=\"color: #00af00; text-decoration-color: #00af00\">156</span> │\n",
       "├─────────────────────────────────┼────────────────────────┼───────────────┤\n",
       "│ max_pooling2d (<span style=\"color: #0087ff; text-decoration-color: #0087ff\">MaxPooling2D</span>)    │ (<span style=\"color: #00d7ff; text-decoration-color: #00d7ff\">None</span>, <span style=\"color: #00af00; text-decoration-color: #00af00\">14</span>, <span style=\"color: #00af00; text-decoration-color: #00af00\">14</span>, <span style=\"color: #00af00; text-decoration-color: #00af00\">6</span>)      │             <span style=\"color: #00af00; text-decoration-color: #00af00\">0</span> │\n",
       "├─────────────────────────────────┼────────────────────────┼───────────────┤\n",
       "│ conv2d_1 (<span style=\"color: #0087ff; text-decoration-color: #0087ff\">Conv2D</span>)               │ (<span style=\"color: #00d7ff; text-decoration-color: #00d7ff\">None</span>, <span style=\"color: #00af00; text-decoration-color: #00af00\">10</span>, <span style=\"color: #00af00; text-decoration-color: #00af00\">10</span>, <span style=\"color: #00af00; text-decoration-color: #00af00\">16</span>)     │         <span style=\"color: #00af00; text-decoration-color: #00af00\">2,416</span> │\n",
       "├─────────────────────────────────┼────────────────────────┼───────────────┤\n",
       "│ max_pooling2d_1 (<span style=\"color: #0087ff; text-decoration-color: #0087ff\">MaxPooling2D</span>)  │ (<span style=\"color: #00d7ff; text-decoration-color: #00d7ff\">None</span>, <span style=\"color: #00af00; text-decoration-color: #00af00\">5</span>, <span style=\"color: #00af00; text-decoration-color: #00af00\">5</span>, <span style=\"color: #00af00; text-decoration-color: #00af00\">16</span>)       │             <span style=\"color: #00af00; text-decoration-color: #00af00\">0</span> │\n",
       "├─────────────────────────────────┼────────────────────────┼───────────────┤\n",
       "│ flatten (<span style=\"color: #0087ff; text-decoration-color: #0087ff\">Flatten</span>)               │ (<span style=\"color: #00d7ff; text-decoration-color: #00d7ff\">None</span>, <span style=\"color: #00af00; text-decoration-color: #00af00\">400</span>)            │             <span style=\"color: #00af00; text-decoration-color: #00af00\">0</span> │\n",
       "├─────────────────────────────────┼────────────────────────┼───────────────┤\n",
       "│ dense (<span style=\"color: #0087ff; text-decoration-color: #0087ff\">Dense</span>)                   │ (<span style=\"color: #00d7ff; text-decoration-color: #00d7ff\">None</span>, <span style=\"color: #00af00; text-decoration-color: #00af00\">120</span>)            │        <span style=\"color: #00af00; text-decoration-color: #00af00\">48,120</span> │\n",
       "├─────────────────────────────────┼────────────────────────┼───────────────┤\n",
       "│ dense_1 (<span style=\"color: #0087ff; text-decoration-color: #0087ff\">Dense</span>)                 │ (<span style=\"color: #00d7ff; text-decoration-color: #00d7ff\">None</span>, <span style=\"color: #00af00; text-decoration-color: #00af00\">84</span>)             │        <span style=\"color: #00af00; text-decoration-color: #00af00\">10,164</span> │\n",
       "├─────────────────────────────────┼────────────────────────┼───────────────┤\n",
       "│ dense_2 (<span style=\"color: #0087ff; text-decoration-color: #0087ff\">Dense</span>)                 │ (<span style=\"color: #00d7ff; text-decoration-color: #00d7ff\">None</span>, <span style=\"color: #00af00; text-decoration-color: #00af00\">2</span>)              │           <span style=\"color: #00af00; text-decoration-color: #00af00\">170</span> │\n",
       "└─────────────────────────────────┴────────────────────────┴───────────────┘\n",
       "</pre>\n"
      ],
      "text/plain": [
       "┏━━━━━━━━━━━━━━━━━━━━━━━━━━━━━━━━━┳━━━━━━━━━━━━━━━━━━━━━━━━┳━━━━━━━━━━━━━━━┓\n",
       "┃\u001b[1m \u001b[0m\u001b[1mLayer (type)                   \u001b[0m\u001b[1m \u001b[0m┃\u001b[1m \u001b[0m\u001b[1mOutput Shape          \u001b[0m\u001b[1m \u001b[0m┃\u001b[1m \u001b[0m\u001b[1m      Param #\u001b[0m\u001b[1m \u001b[0m┃\n",
       "┡━━━━━━━━━━━━━━━━━━━━━━━━━━━━━━━━━╇━━━━━━━━━━━━━━━━━━━━━━━━╇━━━━━━━━━━━━━━━┩\n",
       "│ conv2d (\u001b[38;5;33mConv2D\u001b[0m)                 │ (\u001b[38;5;45mNone\u001b[0m, \u001b[38;5;34m28\u001b[0m, \u001b[38;5;34m28\u001b[0m, \u001b[38;5;34m6\u001b[0m)      │           \u001b[38;5;34m156\u001b[0m │\n",
       "├─────────────────────────────────┼────────────────────────┼───────────────┤\n",
       "│ max_pooling2d (\u001b[38;5;33mMaxPooling2D\u001b[0m)    │ (\u001b[38;5;45mNone\u001b[0m, \u001b[38;5;34m14\u001b[0m, \u001b[38;5;34m14\u001b[0m, \u001b[38;5;34m6\u001b[0m)      │             \u001b[38;5;34m0\u001b[0m │\n",
       "├─────────────────────────────────┼────────────────────────┼───────────────┤\n",
       "│ conv2d_1 (\u001b[38;5;33mConv2D\u001b[0m)               │ (\u001b[38;5;45mNone\u001b[0m, \u001b[38;5;34m10\u001b[0m, \u001b[38;5;34m10\u001b[0m, \u001b[38;5;34m16\u001b[0m)     │         \u001b[38;5;34m2,416\u001b[0m │\n",
       "├─────────────────────────────────┼────────────────────────┼───────────────┤\n",
       "│ max_pooling2d_1 (\u001b[38;5;33mMaxPooling2D\u001b[0m)  │ (\u001b[38;5;45mNone\u001b[0m, \u001b[38;5;34m5\u001b[0m, \u001b[38;5;34m5\u001b[0m, \u001b[38;5;34m16\u001b[0m)       │             \u001b[38;5;34m0\u001b[0m │\n",
       "├─────────────────────────────────┼────────────────────────┼───────────────┤\n",
       "│ flatten (\u001b[38;5;33mFlatten\u001b[0m)               │ (\u001b[38;5;45mNone\u001b[0m, \u001b[38;5;34m400\u001b[0m)            │             \u001b[38;5;34m0\u001b[0m │\n",
       "├─────────────────────────────────┼────────────────────────┼───────────────┤\n",
       "│ dense (\u001b[38;5;33mDense\u001b[0m)                   │ (\u001b[38;5;45mNone\u001b[0m, \u001b[38;5;34m120\u001b[0m)            │        \u001b[38;5;34m48,120\u001b[0m │\n",
       "├─────────────────────────────────┼────────────────────────┼───────────────┤\n",
       "│ dense_1 (\u001b[38;5;33mDense\u001b[0m)                 │ (\u001b[38;5;45mNone\u001b[0m, \u001b[38;5;34m84\u001b[0m)             │        \u001b[38;5;34m10,164\u001b[0m │\n",
       "├─────────────────────────────────┼────────────────────────┼───────────────┤\n",
       "│ dense_2 (\u001b[38;5;33mDense\u001b[0m)                 │ (\u001b[38;5;45mNone\u001b[0m, \u001b[38;5;34m2\u001b[0m)              │           \u001b[38;5;34m170\u001b[0m │\n",
       "└─────────────────────────────────┴────────────────────────┴───────────────┘\n"
      ]
     },
     "metadata": {},
     "output_type": "display_data"
    },
    {
     "data": {
      "text/html": [
       "<pre style=\"white-space:pre;overflow-x:auto;line-height:normal;font-family:Menlo,'DejaVu Sans Mono',consolas,'Courier New',monospace\"><span style=\"font-weight: bold\"> Total params: </span><span style=\"color: #00af00; text-decoration-color: #00af00\">61,026</span> (238.38 KB)\n",
       "</pre>\n"
      ],
      "text/plain": [
       "\u001b[1m Total params: \u001b[0m\u001b[38;5;34m61,026\u001b[0m (238.38 KB)\n"
      ]
     },
     "metadata": {},
     "output_type": "display_data"
    },
    {
     "data": {
      "text/html": [
       "<pre style=\"white-space:pre;overflow-x:auto;line-height:normal;font-family:Menlo,'DejaVu Sans Mono',consolas,'Courier New',monospace\"><span style=\"font-weight: bold\"> Trainable params: </span><span style=\"color: #00af00; text-decoration-color: #00af00\">61,026</span> (238.38 KB)\n",
       "</pre>\n"
      ],
      "text/plain": [
       "\u001b[1m Trainable params: \u001b[0m\u001b[38;5;34m61,026\u001b[0m (238.38 KB)\n"
      ]
     },
     "metadata": {},
     "output_type": "display_data"
    },
    {
     "data": {
      "text/html": [
       "<pre style=\"white-space:pre;overflow-x:auto;line-height:normal;font-family:Menlo,'DejaVu Sans Mono',consolas,'Courier New',monospace\"><span style=\"font-weight: bold\"> Non-trainable params: </span><span style=\"color: #00af00; text-decoration-color: #00af00\">0</span> (0.00 B)\n",
       "</pre>\n"
      ],
      "text/plain": [
       "\u001b[1m Non-trainable params: \u001b[0m\u001b[38;5;34m0\u001b[0m (0.00 B)\n"
      ]
     },
     "metadata": {},
     "output_type": "display_data"
    }
   ],
   "source": [
    "model.summary()"
   ]
  },
  {
   "cell_type": "markdown",
   "id": "896ccfdc-cbcd-43ca-b3e0-f9b71e6674ba",
   "metadata": {},
   "source": [
    "After compiling the model, 'model.summary()' gives us a detailed view of each layer, output form and number of trainable parameters.\n",
    "This model is relatively **light** because of its 61k parameters, which makes it efficient to train not-large datasets.\n",
    "Convolutional layers extract special features from the images, by the other side, *pooling* reduces dimensionality and dense layers learn more abstract representations to classify the binary label."
   ]
  },
  {
   "cell_type": "markdown",
   "id": "d4bef43d-0a54-4107-b58b-5c94b58b505d",
   "metadata": {},
   "source": [
    "Once the model is compiled, we train it using the `fit()` function.  \n",
    "This step runs the optimization process: feeding batches of training data through the network, updating weights, and evaluating on the validation set at the end of each epoch."
   ]
  },
  {
   "cell_type": "code",
   "execution_count": null,
   "id": "ded9f695-81a6-419b-849d-6c4fb23801d9",
   "metadata": {},
   "outputs": [
    {
     "name": "stdout",
     "output_type": "stream",
     "text": [
      "Epoch 1/25\n"
     ]
    }
   ],
   "source": [
    "history = model.fit(\n",
    "    train_tf,\n",
    "    validation_data=val_tf,\n",
    "    epochs=25,            \n",
    "    verbose = 1\n",
    ")"
   ]
  },
  {
   "cell_type": "code",
   "execution_count": null,
   "id": "dcc4a225-af3b-4b99-9886-e205cecf4de4",
   "metadata": {},
   "outputs": [],
   "source": [
    "# Despliega las curvas de aprendizaje\n",
    "H = history\n",
    "plt.style.use(\"ggplot\")\n",
    "plt.figure()\n",
    "plt.plot(np.arange(0,n_epochs),H.history[\"accuracy\"],label=\"train_acc\")\n",
    "plt.plot(np.arange(0,n_epochs),H.history[\"val_accuracy\"],label=\"val_acc\")\n",
    "plt.title(\"Training and Validation Accuracy\")\n",
    "plt.xlabel(\"Epoch\")\n",
    "plt.ylabel(\"Accuracy\")\n",
    "plt.legend()\n",
    "\n",
    "plt.figure()\n",
    "plt.plot(np.arange(0,n_epochs),H.history[\"loss\"],label=\"train_loss\") \n",
    "plt.plot(np.arange(0,n_epochs),H.history[\"val_loss\"],label=\"val_loss\")\n",
    "plt.title(\"Training and Validation Loss\")\n",
    "plt.xlabel(\"Epoch\")\n",
    "plt.ylabel(\"Loss\")\n",
    "plt.legend()\n",
    "\n",
    "plt.show()"
   ]
  },
  {
   "cell_type": "markdown",
   "id": "8b1ec749-0b2f-4a02-b34a-d2bd1da1af5c",
   "metadata": {},
   "source": [
    "The training process was monitored using accuracy and loss curves for both the training and validation sets.  \n",
    "\n",
    "**Accuracy:** both training and validation show a rapid increase during the first epochs. After ~5, we can observe how accuracy stanbilies abobe 90%. The closeness of both curves suggests that the model generalizes well and does not suffer from severe overfitting.\n",
    "\n",
    "**Loss:** Training and validation decreaase sharply during the first epochs, after ~5 epochs, the curves flatten, converging towards very low loss values. Training loss continues to drop slightly lower than validation loss, which is expectes as the model optimizes on training data.\n",
    "\n",
    "The model learns very quickly, achieving strong performance within the first 5–10 epochs, we observe high accuracy and low loss on both training and validation sets demonstrate that the CNN (LeNet-5 inspired) is well-suited for the PneumoniaMNIST dataset. The small gap between training and validation metrics suggests a balanced model that avoids underfitting and overfitting.  \n"
   ]
  },
  {
   "cell_type": "code",
   "execution_count": null,
   "id": "46d177c7-0d4a-43de-81a2-9b8f3bff772e",
   "metadata": {},
   "outputs": [],
   "source": [
    "from sklearn.metrics import classification_report\n",
    "import seaborn as sns"
   ]
  },
  {
   "cell_type": "markdown",
   "id": "0adfbeff-68a8-44bc-8d8c-245d04e8f1d3",
   "metadata": {},
   "source": [
    "The classification report provides detailed metrics for each class (*Normal* vs *Neumonía*) on the test set."
   ]
  },
  {
   "cell_type": "code",
   "execution_count": null,
   "id": "2320bc76-7c58-4032-92ce-2ecc25121a9e",
   "metadata": {},
   "outputs": [],
   "source": [
    "y_true = np.concatenate([y for _, y in test_tf], axis=0)\n",
    "y_prob = model.predict(test_tf)\n",
    "y_pred = y_prob.argmax(axis=1)\n",
    "labels = [\"Normal\", \"Neumonía\"]\n",
    "print(classification_report(y_true, y_pred, target_names=labels))\n"
   ]
  },
  {
   "cell_type": "markdown",
   "id": "8b6111c5-c4a9-4b9f-a3ad-0b4d8a655f66",
   "metadata": {},
   "source": [
    "### Classification Report\n",
    "\n",
    "The classification report provides detailed metrics for each class (*Normal* vs *Neumonía*) on the test set.\n",
    "\n",
    "**Normal (234 samples)**  \n",
    "   Precision:  When the model predicts \"Normal\", it is correct 98% of the time.  \n",
    "   Recall:  The model only identifies 60% of the actual \"Normal\" cases, missing 40%.  \n",
    "   F1-score: Balanced metric showing strong precision but weaker recall.  \n",
    "**Neumonía (390 samples)**  \n",
    "   Precision: When predicting \"Neumonía\", 80% of those predictions are correct.  \n",
    "   Recall: The model is extremely sensitive to detecting pneumonia, capturing almost all cases.  \n",
    "   F1-score: Good balance between precision and recall.  \n",
    "\n",
    "**Accuracy:** The model classifies 84% of the test samples correctly.  \n",
    "**Macro Avg (balanced classes):** Precision 0.89, Recall 0.80, F1-score 0.82.  \n",
    "**Weighted Avg (considering class imbalance):** Precision 0.87, Recall 0.84, F1-score 0.83.  \n",
    "\n",
    "The model is **very strong at detecting pneumonia** (high recall = 0.99), which is desirable in medical settings where missing a pneumonia case is critical, however, it struggles to correctly classify \"Normal\" cases (recall = 0.60), meaning it often labels healthy patients as having pneumonia (false positives).  This trade-off shows the model prioritizes **sensitivity (recall for pneumonia)** over **specificity (recall for normal)**.  \n",
    "The CNN performs well overall, especially in identifying pneumonia cases. Future improvements could focus on increasing recall for \"Normal\" without sacrificing the excellent pneumonia detection rate.\n"
   ]
  },
  {
   "cell_type": "code",
   "execution_count": null,
   "id": "7605012e-3380-4f9d-9832-da182d472763",
   "metadata": {},
   "outputs": [],
   "source": [
    "cm = confusion_matrix(y_true, y_pred)\n",
    "plt.figure(figsize=(5,4))\n",
    "sns.heatmap(cm, annot=True, fmt=\"d\", cmap=\"Blues\",\n",
    "            xticklabels=labels, yticklabels=labels)\n",
    "plt.xlabel(\"Predicción\")\n",
    "plt.ylabel(\"Real\")\n",
    "plt.title(\"Matriz de Confusión - PneumoniaMNIST\")\n",
    "plt.show()"
   ]
  },
  {
   "cell_type": "markdown",
   "id": "2eb97abd-8fb5-48e0-8596-0b76f66e6014",
   "metadata": {},
   "source": [
    "The confusion matrix shows how well the model distinguishes between *Normal* and *Pneumonia* cases.\n",
    "The model performs exceptionally well at detecting Pneumonía: out of 390 actual pneumonia cases, 387 were correctly identified (recall ≈ 0.99), only 3 pneumonia cases were missed (false negatives).  \n",
    "On the other hand, performance for Normal cases is weaker:  out of 234 actual normal cases, only 144 were correctly classified, 90 were incorrectly labeled as pneumonia (false positives). "
   ]
  },
  {
   "cell_type": "code",
   "execution_count": null,
   "id": "29de2182-6813-428b-ad98-f6654db796f5",
   "metadata": {},
   "outputs": [],
   "source": []
  }
 ],
 "metadata": {
  "kernelspec": {
   "display_name": "Python 3 (ipykernel)",
   "language": "python",
   "name": "python3"
  },
  "language_info": {
   "codemirror_mode": {
    "name": "ipython",
    "version": 3
   },
   "file_extension": ".py",
   "mimetype": "text/x-python",
   "name": "python",
   "nbconvert_exporter": "python",
   "pygments_lexer": "ipython3",
   "version": "3.13.5"
  }
 },
 "nbformat": 4,
 "nbformat_minor": 5
}
